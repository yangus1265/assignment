{
 "cells": [
  {
   "cell_type": "code",
   "execution_count": 111,
   "metadata": {},
   "outputs": [],
   "source": [
    "import pandas as pd\n",
    "import numpy as np\n",
    "pd.set_option('display.float_format', lambda x: '%.3f' % x)"
   ]
  },
  {
   "cell_type": "code",
   "execution_count": 71,
   "metadata": {},
   "outputs": [],
   "source": [
    "df = pd.read_csv('parking_citations.corrupted.csv', dtype=object)"
   ]
  },
  {
   "cell_type": "markdown",
   "metadata": {},
   "source": [
    "## data clean up"
   ]
  },
  {
   "cell_type": "code",
   "execution_count": 72,
   "metadata": {},
   "outputs": [],
   "source": [
    "# get rid of the data without \"make\" info\n",
    "df_make = df.loc[~df['Make'].isnull()]"
   ]
  },
  {
   "cell_type": "code",
   "execution_count": 73,
   "metadata": {},
   "outputs": [
    {
     "name": "stderr",
     "output_type": "stream",
     "text": [
      "/anaconda3/lib/python3.6/site-packages/ipykernel_launcher.py:1: SettingWithCopyWarning: \n",
      "A value is trying to be set on a copy of a slice from a DataFrame.\n",
      "Try using .loc[row_indexer,col_indexer] = value instead\n",
      "\n",
      "See the caveats in the documentation: http://pandas.pydata.org/pandas-docs/stable/indexing.html#indexing-view-versus-copy\n",
      "  \"\"\"Entry point for launching an IPython kernel.\n"
     ]
    }
   ],
   "source": [
    "df_make['Issue Date'] = pd.to_datetime(df_make['Issue Date'])"
   ]
  },
  {
   "cell_type": "code",
   "execution_count": 74,
   "metadata": {},
   "outputs": [],
   "source": [
    "# got rid of any without an expiration date\n",
    "df_make = df_make.loc[~(df_make['Plate Expiry Date'].isnull())]\n",
    "\n",
    "# only keep records with the right expiry dates\n",
    "df_make = df_make.loc[df_make['Plate Expiry Date'].str.len() == 8]\n",
    "\n",
    "# extract year and month \n",
    "df_make['year'] = df_make['Plate Expiry Date'].str[:4].astype('int')\n",
    "df_make['month'] = df_make['Plate Expiry Date'].str[4:6].astype('int')\n",
    "df_make['day'] = 1\n",
    "\n",
    "# make sure the date is within a realistic timeframe\n",
    "df_make = df_make.loc[(df_make['year'].between(1990, 2020, inclusive=True))&(df_make['month'].between(1, 12, inclusive=True))]\n",
    "\n",
    "# recreate the plate expiration date field\n",
    "df_make['plate_expiry_date'] = pd.to_datetime(df_make[['year', 'month', 'day']])\n"
   ]
  },
  {
   "cell_type": "code",
   "execution_count": 81,
   "metadata": {},
   "outputs": [],
   "source": [
    "# making a subjective call and getting rid of fields that seems to not add to the analysis\n",
    "# marked time is dropped because too many (>90%) are null\n",
    "# I thought street type could possibly be useful for creating a feature but it seems time consuming given this scope\n",
    "# agency might have some info but it's hard to immediately see the use without perhaps a lookup table\n",
    "# lat and lon seem to not be actually usable at all\n",
    "df_make = df_make.drop(['Ticket number', 'Meter Id', 'VIN', 'Latitude', 'Longitude', 'Agency', 'year', 'month', 'day', 'street_type', 'Marked Time'], axis = 1)"
   ]
  },
  {
   "cell_type": "code",
   "execution_count": 83,
   "metadata": {},
   "outputs": [
    {
     "data": {
      "text/html": [
       "<div>\n",
       "<style scoped>\n",
       "    .dataframe tbody tr th:only-of-type {\n",
       "        vertical-align: middle;\n",
       "    }\n",
       "\n",
       "    .dataframe tbody tr th {\n",
       "        vertical-align: top;\n",
       "    }\n",
       "\n",
       "    .dataframe thead th {\n",
       "        text-align: right;\n",
       "    }\n",
       "</style>\n",
       "<table border=\"1\" class=\"dataframe\">\n",
       "  <thead>\n",
       "    <tr style=\"text-align: right;\">\n",
       "      <th></th>\n",
       "      <th>Issue Date</th>\n",
       "      <th>Issue time</th>\n",
       "      <th>Marked Time</th>\n",
       "      <th>RP State Plate</th>\n",
       "      <th>Plate Expiry Date</th>\n",
       "      <th>Make</th>\n",
       "      <th>Body Style</th>\n",
       "      <th>Color</th>\n",
       "      <th>Location</th>\n",
       "      <th>Route</th>\n",
       "      <th>Violation code</th>\n",
       "      <th>Violation Description</th>\n",
       "      <th>Fine amount</th>\n",
       "      <th>plate_expiry_date</th>\n",
       "    </tr>\n",
       "  </thead>\n",
       "  <tbody>\n",
       "    <tr>\n",
       "      <th>6</th>\n",
       "      <td>2015-12-17</td>\n",
       "      <td>1710.0</td>\n",
       "      <td>NaN</td>\n",
       "      <td>CA</td>\n",
       "      <td>201605.0</td>\n",
       "      <td>MAZD</td>\n",
       "      <td>PA</td>\n",
       "      <td>BL</td>\n",
       "      <td>SUNSET/ALVARADO</td>\n",
       "      <td>00217</td>\n",
       "      <td>8070</td>\n",
       "      <td>PARK IN GRID LOCK ZN</td>\n",
       "      <td>163.0</td>\n",
       "      <td>2016-05-01</td>\n",
       "    </tr>\n",
       "    <tr>\n",
       "      <th>10</th>\n",
       "      <td>2015-12-22</td>\n",
       "      <td>1100.0</td>\n",
       "      <td>NaN</td>\n",
       "      <td>CA</td>\n",
       "      <td>201511.0</td>\n",
       "      <td>FORD</td>\n",
       "      <td>TR</td>\n",
       "      <td>WH</td>\n",
       "      <td>1159 HUNTLEY DR</td>\n",
       "      <td>2A75</td>\n",
       "      <td>8069AA</td>\n",
       "      <td>NO STOP/STAND AM</td>\n",
       "      <td>93.0</td>\n",
       "      <td>2015-11-01</td>\n",
       "    </tr>\n",
       "    <tr>\n",
       "      <th>11</th>\n",
       "      <td>2015-12-22</td>\n",
       "      <td>1105.0</td>\n",
       "      <td>NaN</td>\n",
       "      <td>CA</td>\n",
       "      <td>201701.0</td>\n",
       "      <td>CHRY</td>\n",
       "      <td>PA</td>\n",
       "      <td>GO</td>\n",
       "      <td>1159 HUNTLEY DR</td>\n",
       "      <td>2A75</td>\n",
       "      <td>8069AA</td>\n",
       "      <td>NO STOP/STAND AM</td>\n",
       "      <td>93.0</td>\n",
       "      <td>2017-01-01</td>\n",
       "    </tr>\n",
       "    <tr>\n",
       "      <th>14</th>\n",
       "      <td>2015-12-27</td>\n",
       "      <td>1055.0</td>\n",
       "      <td>NaN</td>\n",
       "      <td>CA</td>\n",
       "      <td>201605.0</td>\n",
       "      <td>TOYO</td>\n",
       "      <td>PA</td>\n",
       "      <td>BK</td>\n",
       "      <td>3100 N HOLLYRIDGE DR</td>\n",
       "      <td>NaN</td>\n",
       "      <td>8058L</td>\n",
       "      <td>PREF PARKING</td>\n",
       "      <td>68.0</td>\n",
       "      <td>2016-05-01</td>\n",
       "    </tr>\n",
       "    <tr>\n",
       "      <th>19</th>\n",
       "      <td>2015-12-22</td>\n",
       "      <td>1102.0</td>\n",
       "      <td>NaN</td>\n",
       "      <td>CA</td>\n",
       "      <td>201606.0</td>\n",
       "      <td>HOND</td>\n",
       "      <td>PA</td>\n",
       "      <td>BK</td>\n",
       "      <td>PLATA/RAMPART</td>\n",
       "      <td>2A1</td>\n",
       "      <td>8069B</td>\n",
       "      <td>NO PARKING</td>\n",
       "      <td>73.0</td>\n",
       "      <td>2016-06-01</td>\n",
       "    </tr>\n",
       "  </tbody>\n",
       "</table>\n",
       "</div>"
      ],
      "text/plain": [
       "   Issue Date Issue time Marked Time RP State Plate Plate Expiry Date  Make  \\\n",
       "6  2015-12-17     1710.0         NaN             CA          201605.0  MAZD   \n",
       "10 2015-12-22     1100.0         NaN             CA          201511.0  FORD   \n",
       "11 2015-12-22     1105.0         NaN             CA          201701.0  CHRY   \n",
       "14 2015-12-27     1055.0         NaN             CA          201605.0  TOYO   \n",
       "19 2015-12-22     1102.0         NaN             CA          201606.0  HOND   \n",
       "\n",
       "   Body Style Color              Location  Route Violation code  \\\n",
       "6          PA    BL       SUNSET/ALVARADO  00217           8070   \n",
       "10         TR    WH       1159 HUNTLEY DR   2A75         8069AA   \n",
       "11         PA    GO       1159 HUNTLEY DR   2A75         8069AA   \n",
       "14         PA    BK  3100 N HOLLYRIDGE DR    NaN          8058L   \n",
       "19         PA    BK         PLATA/RAMPART    2A1          8069B   \n",
       "\n",
       "   Violation Description Fine amount plate_expiry_date  \n",
       "6   PARK IN GRID LOCK ZN       163.0        2016-05-01  \n",
       "10      NO STOP/STAND AM        93.0        2015-11-01  \n",
       "11      NO STOP/STAND AM        93.0        2017-01-01  \n",
       "14          PREF PARKING        68.0        2016-05-01  \n",
       "19            NO PARKING        73.0        2016-06-01  "
      ]
     },
     "execution_count": 83,
     "metadata": {},
     "output_type": "execute_result"
    }
   ],
   "source": [
    "df_make.head()"
   ]
  },
  {
   "cell_type": "markdown",
   "metadata": {},
   "source": [
    "## feature creation"
   ]
  },
  {
   "cell_type": "code",
   "execution_count": 84,
   "metadata": {},
   "outputs": [],
   "source": [
    "# creating an \"instate\" field\n",
    "df_make['instate'] = 0 \n",
    "df_make.loc[df_make['RP State Plate'] == 'CA', 'instate'] = 1"
   ]
  },
  {
   "cell_type": "code",
   "execution_count": 85,
   "metadata": {},
   "outputs": [],
   "source": [
    "# create an \"expired\" field\n",
    "df_make['expired'] = 0\n",
    "df_make.loc[(df_make['plate_expiry_date'] < df_make['Issue Date']), 'expired'] = 1"
   ]
  },
  {
   "cell_type": "code",
   "execution_count": 93,
   "metadata": {},
   "outputs": [],
   "source": [
    "# create a \"top 25\" make field\n",
    "top_25 = df['Make'].value_counts(normalize = True)[:25]\n",
    "df_make['top_25_make'] = np.where(df_make['Make'].isin(top_25.index), 1, 0)"
   ]
  },
  {
   "cell_type": "code",
   "execution_count": 87,
   "metadata": {},
   "outputs": [],
   "source": [
    "# bin the colors into top 10\n",
    "top_colors = df_make['Color'].value_counts(normalize = True).cumsum()[:10]\n",
    "df_make['Color'] = np.where(df_make['Color'].isin(top_colors.index), df_make['Color'], 'Other')"
   ]
  },
  {
   "cell_type": "code",
   "execution_count": 89,
   "metadata": {},
   "outputs": [],
   "source": [
    "# bin the styles into top 5\n",
    "top_style = df_make['Body Style'].value_counts(normalize = True).cumsum()[:5]\n",
    "df_make['Body Style'] = np.where(df_make['Body Style'].isin(top_style.index), df_make['Body Style'], 'Other')"
   ]
  },
  {
   "cell_type": "code",
   "execution_count": 101,
   "metadata": {},
   "outputs": [],
   "source": [
    "# extract location to see road type\n",
    "df_make['street_type'] = df_make['Location'].str.split().str[-1]"
   ]
  },
  {
   "cell_type": "code",
   "execution_count": 112,
   "metadata": {},
   "outputs": [
    {
     "data": {
      "text/plain": [
       "count   3660234.000\n",
       "mean         69.667\n",
       "std          32.457\n",
       "min          10.000\n",
       "25%          63.000\n",
       "50%          68.000\n",
       "75%          73.000\n",
       "max         505.000\n",
       "Name: Fine amount, dtype: float64"
      ]
     },
     "execution_count": 112,
     "metadata": {},
     "output_type": "execute_result"
    }
   ],
   "source": [
    "# creating a categorical variable for fine amount\n",
    "df_make['Fine amount'].astype('float').describe()"
   ]
  },
  {
   "cell_type": "code",
   "execution_count": 114,
   "metadata": {},
   "outputs": [],
   "source": [
    "conditions = [\n",
    "    (df_make['Fine amount'].astype('float').between(0,50)),\n",
    "    (df_make['Fine amount'].astype('float').between(50,100))]\n",
    "choices = ['low', 'medium']\n",
    "df_make['fine_cat'] = np.select(conditions, choices, default='big')"
   ]
  },
  {
   "cell_type": "code",
   "execution_count": 130,
   "metadata": {},
   "outputs": [],
   "source": [
    "# get num of days between ticket issued and plate expiration\n",
    "df_make['days_between_issue_expired'] = (df_make['plate_expiry_date'] - df_make['Issue Date']).dt.days"
   ]
  },
  {
   "cell_type": "code",
   "execution_count": 127,
   "metadata": {},
   "outputs": [],
   "source": [
    "# creating a categorical variable for issue time\n",
    "conditions = [\n",
    "    (df_make['Issue time'].astype('float').between(0,600)), # early hours\n",
    "    (df_make['Issue time'].astype('float').between(600,1200)), # morning\n",
    "    (df_make['Issue time'].astype('float').between(1200,1800)), # afternoon\n",
    "]\n",
    "choices = ['early_hours', 'morning', 'afternoon']\n",
    "df_make['issue_time_cat'] = np.select(conditions, choices, default='night')"
   ]
  },
  {
   "cell_type": "markdown",
   "metadata": {},
   "source": [
    "## questions to ask when comparing top 25 to non-25\n",
    "1. related to the car: color, body style, plate expiration (is it expired? days since expiration?)\n",
    "2. related to the ticket: issue date, time, fine amount, violation description\n",
    "3. related to geography: location (type of street), state, lat, lon\n"
   ]
  },
  {
   "cell_type": "code",
   "execution_count": 3,
   "metadata": {},
   "outputs": [
    {
     "name": "stdout",
     "output_type": "stream",
     "text": [
      "<class 'pandas.core.frame.DataFrame'>\n",
      "RangeIndex: 8726014 entries, 0 to 8726013\n",
      "Data columns (total 19 columns):\n",
      "Ticket number            object\n",
      "Issue Date               object\n",
      "Issue time               object\n",
      "Meter Id                 object\n",
      "Marked Time              object\n",
      "RP State Plate           object\n",
      "Plate Expiry Date        object\n",
      "VIN                      object\n",
      "Make                     object\n",
      "Body Style               object\n",
      "Color                    object\n",
      "Location                 object\n",
      "Route                    object\n",
      "Agency                   object\n",
      "Violation code           object\n",
      "Violation Description    object\n",
      "Fine amount              object\n",
      "Latitude                 object\n",
      "Longitude                object\n",
      "dtypes: object(19)\n",
      "memory usage: 1.2+ GB\n"
     ]
    }
   ],
   "source": [
    "df.info()"
   ]
  },
  {
   "cell_type": "markdown",
   "metadata": {},
   "source": [
    "## make/color/body style"
   ]
  },
  {
   "cell_type": "code",
   "execution_count": 39,
   "metadata": {},
   "outputs": [
    {
     "data": {
      "text/plain": [
       "1477"
      ]
     },
     "execution_count": 39,
     "metadata": {},
     "output_type": "execute_result"
    }
   ],
   "source": [
    "# what's the top 25 make?\n",
    "df['Make'].nunique()"
   ]
  },
  {
   "cell_type": "code",
   "execution_count": 40,
   "metadata": {},
   "outputs": [],
   "source": [
    "top_25 = df['Make'].value_counts(normalize = True)[:25]"
   ]
  },
  {
   "cell_type": "code",
   "execution_count": 41,
   "metadata": {},
   "outputs": [
    {
     "data": {
      "text/plain": [
       "0.9147845667192346"
      ]
     },
     "execution_count": 41,
     "metadata": {},
     "output_type": "execute_result"
    }
   ],
   "source": [
    "# percent of total cars that are top 25 makes\n",
    "top_25.sum()"
   ]
  },
  {
   "cell_type": "code",
   "execution_count": 42,
   "metadata": {},
   "outputs": [],
   "source": [
    "# create a boolean which tells you if it is or isn't top 25\n",
    "df['top_25'] = np.where(df['Make'].isin(top_25.index), 1, 0)"
   ]
  },
  {
   "cell_type": "code",
   "execution_count": 43,
   "metadata": {},
   "outputs": [],
   "source": [
    "# what are the top 10 colors?\n",
    "top_colors = df['Color'].value_counts(normalize = True).cumsum()[:10]"
   ]
  },
  {
   "cell_type": "code",
   "execution_count": 44,
   "metadata": {},
   "outputs": [],
   "source": [
    "# let's bin the rest of the colors in seperate\n",
    "df['top_colors'] = np.where(df['Color'].isin(top_colors.index), df['Color'], 'Other')"
   ]
  },
  {
   "cell_type": "code",
   "execution_count": 45,
   "metadata": {},
   "outputs": [],
   "source": [
    "# let's get a cross tab of top 25 make with top colors\n",
    "cross_color = (pd.crosstab(df['top_25'], df['top_colors'], margins=True).T\n",
    ".sort_values(by = 'All', ascending = False))\n",
    "\n",
    "cross_color['zero_per'] = cross_color[0]/cross_color['All']\n",
    "cross_color['one_per'] = cross_color[1]/cross_color['All']\n",
    "cross_color['diff'] = abs(cross_color['zero_per']-cross_color['one_per'])"
   ]
  },
  {
   "cell_type": "code",
   "execution_count": 46,
   "metadata": {},
   "outputs": [
    {
     "data": {
      "text/html": [
       "<div>\n",
       "<style scoped>\n",
       "    .dataframe tbody tr th:only-of-type {\n",
       "        vertical-align: middle;\n",
       "    }\n",
       "\n",
       "    .dataframe tbody tr th {\n",
       "        vertical-align: top;\n",
       "    }\n",
       "\n",
       "    .dataframe thead th {\n",
       "        text-align: right;\n",
       "    }\n",
       "</style>\n",
       "<table border=\"1\" class=\"dataframe\">\n",
       "  <thead>\n",
       "    <tr style=\"text-align: right;\">\n",
       "      <th>top_25</th>\n",
       "      <th>0</th>\n",
       "      <th>1</th>\n",
       "      <th>All</th>\n",
       "      <th>zero_per</th>\n",
       "      <th>one_per</th>\n",
       "      <th>diff</th>\n",
       "    </tr>\n",
       "    <tr>\n",
       "      <th>top_colors</th>\n",
       "      <th></th>\n",
       "      <th></th>\n",
       "      <th></th>\n",
       "      <th></th>\n",
       "      <th></th>\n",
       "      <th></th>\n",
       "    </tr>\n",
       "  </thead>\n",
       "  <tbody>\n",
       "    <tr>\n",
       "      <th>All</th>\n",
       "      <td>4739800</td>\n",
       "      <td>3986214</td>\n",
       "      <td>8726014</td>\n",
       "      <td>0.543180</td>\n",
       "      <td>0.456820</td>\n",
       "      <td>0.086361</td>\n",
       "    </tr>\n",
       "    <tr>\n",
       "      <th>BK</th>\n",
       "      <td>1018920</td>\n",
       "      <td>860989</td>\n",
       "      <td>1879909</td>\n",
       "      <td>0.542005</td>\n",
       "      <td>0.457995</td>\n",
       "      <td>0.084010</td>\n",
       "    </tr>\n",
       "    <tr>\n",
       "      <th>WT</th>\n",
       "      <td>987633</td>\n",
       "      <td>822299</td>\n",
       "      <td>1809932</td>\n",
       "      <td>0.545674</td>\n",
       "      <td>0.454326</td>\n",
       "      <td>0.091348</td>\n",
       "    </tr>\n",
       "    <tr>\n",
       "      <th>GY</th>\n",
       "      <td>894986</td>\n",
       "      <td>796864</td>\n",
       "      <td>1691850</td>\n",
       "      <td>0.528998</td>\n",
       "      <td>0.471002</td>\n",
       "      <td>0.057997</td>\n",
       "    </tr>\n",
       "    <tr>\n",
       "      <th>SL</th>\n",
       "      <td>574426</td>\n",
       "      <td>518328</td>\n",
       "      <td>1092754</td>\n",
       "      <td>0.525668</td>\n",
       "      <td>0.474332</td>\n",
       "      <td>0.051336</td>\n",
       "    </tr>\n",
       "    <tr>\n",
       "      <th>BL</th>\n",
       "      <td>368795</td>\n",
       "      <td>309982</td>\n",
       "      <td>678777</td>\n",
       "      <td>0.543323</td>\n",
       "      <td>0.456677</td>\n",
       "      <td>0.086646</td>\n",
       "    </tr>\n",
       "    <tr>\n",
       "      <th>Other</th>\n",
       "      <td>285278</td>\n",
       "      <td>212994</td>\n",
       "      <td>498272</td>\n",
       "      <td>0.572535</td>\n",
       "      <td>0.427465</td>\n",
       "      <td>0.145069</td>\n",
       "    </tr>\n",
       "    <tr>\n",
       "      <th>RD</th>\n",
       "      <td>238028</td>\n",
       "      <td>194645</td>\n",
       "      <td>432673</td>\n",
       "      <td>0.550134</td>\n",
       "      <td>0.449866</td>\n",
       "      <td>0.100267</td>\n",
       "    </tr>\n",
       "    <tr>\n",
       "      <th>GN</th>\n",
       "      <td>138369</td>\n",
       "      <td>111922</td>\n",
       "      <td>250291</td>\n",
       "      <td>0.552833</td>\n",
       "      <td>0.447167</td>\n",
       "      <td>0.105665</td>\n",
       "    </tr>\n",
       "    <tr>\n",
       "      <th>BN</th>\n",
       "      <td>114398</td>\n",
       "      <td>57675</td>\n",
       "      <td>172073</td>\n",
       "      <td>0.664822</td>\n",
       "      <td>0.335178</td>\n",
       "      <td>0.329645</td>\n",
       "    </tr>\n",
       "    <tr>\n",
       "      <th>GO</th>\n",
       "      <td>62215</td>\n",
       "      <td>52386</td>\n",
       "      <td>114601</td>\n",
       "      <td>0.542884</td>\n",
       "      <td>0.457116</td>\n",
       "      <td>0.085767</td>\n",
       "    </tr>\n",
       "    <tr>\n",
       "      <th>MR</th>\n",
       "      <td>56752</td>\n",
       "      <td>48130</td>\n",
       "      <td>104882</td>\n",
       "      <td>0.541103</td>\n",
       "      <td>0.458897</td>\n",
       "      <td>0.082207</td>\n",
       "    </tr>\n",
       "  </tbody>\n",
       "</table>\n",
       "</div>"
      ],
      "text/plain": [
       "top_25            0        1      All  zero_per   one_per      diff\n",
       "top_colors                                                         \n",
       "All         4739800  3986214  8726014  0.543180  0.456820  0.086361\n",
       "BK          1018920   860989  1879909  0.542005  0.457995  0.084010\n",
       "WT           987633   822299  1809932  0.545674  0.454326  0.091348\n",
       "GY           894986   796864  1691850  0.528998  0.471002  0.057997\n",
       "SL           574426   518328  1092754  0.525668  0.474332  0.051336\n",
       "BL           368795   309982   678777  0.543323  0.456677  0.086646\n",
       "Other        285278   212994   498272  0.572535  0.427465  0.145069\n",
       "RD           238028   194645   432673  0.550134  0.449866  0.100267\n",
       "GN           138369   111922   250291  0.552833  0.447167  0.105665\n",
       "BN           114398    57675   172073  0.664822  0.335178  0.329645\n",
       "GO            62215    52386   114601  0.542884  0.457116  0.085767\n",
       "MR            56752    48130   104882  0.541103  0.458897  0.082207"
      ]
     },
     "execution_count": 46,
     "metadata": {},
     "output_type": "execute_result"
    }
   ],
   "source": [
    "cross_color"
   ]
  },
  {
   "cell_type": "code",
   "execution_count": 64,
   "metadata": {},
   "outputs": [],
   "source": [
    "# body style \n",
    "top_style = df['Body Style'].value_counts(normalize = True).cumsum()[:5]"
   ]
  },
  {
   "cell_type": "code",
   "execution_count": 65,
   "metadata": {},
   "outputs": [],
   "source": [
    "# let's bin the rest of the colors in seperate\n",
    "df['top_style'] = np.where(df['Body Style'].isin(top_style.index), df['Body Style'], 'Other')"
   ]
  },
  {
   "cell_type": "code",
   "execution_count": 67,
   "metadata": {},
   "outputs": [],
   "source": [
    "# let's get a cross tab of top 25 make with top style\n",
    "cross_style = (pd.crosstab(df['top_25'], df['top_style'], margins=True).T\n",
    ".sort_values(by = 'All', ascending = False))\n",
    "\n",
    "cross_style['zero_per'] = cross_style[0]/cross_style['All']\n",
    "cross_style['one_per'] = cross_style[1]/cross_style['All']\n",
    "cross_style['diff'] = abs(cross_style['zero_per']-cross_style['one_per'])"
   ]
  },
  {
   "cell_type": "code",
   "execution_count": 68,
   "metadata": {},
   "outputs": [
    {
     "data": {
      "text/html": [
       "<div>\n",
       "<style scoped>\n",
       "    .dataframe tbody tr th:only-of-type {\n",
       "        vertical-align: middle;\n",
       "    }\n",
       "\n",
       "    .dataframe tbody tr th {\n",
       "        vertical-align: top;\n",
       "    }\n",
       "\n",
       "    .dataframe thead th {\n",
       "        text-align: right;\n",
       "    }\n",
       "</style>\n",
       "<table border=\"1\" class=\"dataframe\">\n",
       "  <thead>\n",
       "    <tr style=\"text-align: right;\">\n",
       "      <th>top_25</th>\n",
       "      <th>0</th>\n",
       "      <th>1</th>\n",
       "      <th>All</th>\n",
       "      <th>zero_per</th>\n",
       "      <th>one_per</th>\n",
       "      <th>diff</th>\n",
       "    </tr>\n",
       "    <tr>\n",
       "      <th>top_style</th>\n",
       "      <th></th>\n",
       "      <th></th>\n",
       "      <th></th>\n",
       "      <th></th>\n",
       "      <th></th>\n",
       "      <th></th>\n",
       "    </tr>\n",
       "  </thead>\n",
       "  <tbody>\n",
       "    <tr>\n",
       "      <th>All</th>\n",
       "      <td>4739800</td>\n",
       "      <td>3986214</td>\n",
       "      <td>8726014</td>\n",
       "      <td>0.543180</td>\n",
       "      <td>0.456820</td>\n",
       "      <td>0.086361</td>\n",
       "    </tr>\n",
       "    <tr>\n",
       "      <th>PA</th>\n",
       "      <td>4119206</td>\n",
       "      <td>3554770</td>\n",
       "      <td>7673976</td>\n",
       "      <td>0.536776</td>\n",
       "      <td>0.463224</td>\n",
       "      <td>0.073552</td>\n",
       "    </tr>\n",
       "    <tr>\n",
       "      <th>PU</th>\n",
       "      <td>150580</td>\n",
       "      <td>148317</td>\n",
       "      <td>298897</td>\n",
       "      <td>0.503786</td>\n",
       "      <td>0.496214</td>\n",
       "      <td>0.007571</td>\n",
       "    </tr>\n",
       "    <tr>\n",
       "      <th>VN</th>\n",
       "      <td>125758</td>\n",
       "      <td>107747</td>\n",
       "      <td>233505</td>\n",
       "      <td>0.538567</td>\n",
       "      <td>0.461433</td>\n",
       "      <td>0.077133</td>\n",
       "    </tr>\n",
       "    <tr>\n",
       "      <th>TK</th>\n",
       "      <td>140387</td>\n",
       "      <td>72884</td>\n",
       "      <td>213271</td>\n",
       "      <td>0.658256</td>\n",
       "      <td>0.341744</td>\n",
       "      <td>0.316513</td>\n",
       "    </tr>\n",
       "    <tr>\n",
       "      <th>Other</th>\n",
       "      <td>109314</td>\n",
       "      <td>56788</td>\n",
       "      <td>166102</td>\n",
       "      <td>0.658114</td>\n",
       "      <td>0.341886</td>\n",
       "      <td>0.316227</td>\n",
       "    </tr>\n",
       "    <tr>\n",
       "      <th>CM</th>\n",
       "      <td>94555</td>\n",
       "      <td>45708</td>\n",
       "      <td>140263</td>\n",
       "      <td>0.674126</td>\n",
       "      <td>0.325874</td>\n",
       "      <td>0.348253</td>\n",
       "    </tr>\n",
       "  </tbody>\n",
       "</table>\n",
       "</div>"
      ],
      "text/plain": [
       "top_25           0        1      All  zero_per   one_per      diff\n",
       "top_style                                                         \n",
       "All        4739800  3986214  8726014  0.543180  0.456820  0.086361\n",
       "PA         4119206  3554770  7673976  0.536776  0.463224  0.073552\n",
       "PU          150580   148317   298897  0.503786  0.496214  0.007571\n",
       "VN          125758   107747   233505  0.538567  0.461433  0.077133\n",
       "TK          140387    72884   213271  0.658256  0.341744  0.316513\n",
       "Other       109314    56788   166102  0.658114  0.341886  0.316227\n",
       "CM           94555    45708   140263  0.674126  0.325874  0.348253"
      ]
     },
     "execution_count": 68,
     "metadata": {},
     "output_type": "execute_result"
    }
   ],
   "source": [
    "cross_style"
   ]
  },
  {
   "cell_type": "code",
   "execution_count": 69,
   "metadata": {},
   "outputs": [],
   "source": [
    "# conclusion: it seems like the new top style and top color might make for good predictors"
   ]
  },
  {
   "cell_type": "markdown",
   "metadata": {},
   "source": [
    "## modeling"
   ]
  },
  {
   "cell_type": "code",
   "execution_count": 132,
   "metadata": {},
   "outputs": [
    {
     "data": {
      "text/html": [
       "<div>\n",
       "<style scoped>\n",
       "    .dataframe tbody tr th:only-of-type {\n",
       "        vertical-align: middle;\n",
       "    }\n",
       "\n",
       "    .dataframe tbody tr th {\n",
       "        vertical-align: top;\n",
       "    }\n",
       "\n",
       "    .dataframe thead th {\n",
       "        text-align: right;\n",
       "    }\n",
       "</style>\n",
       "<table border=\"1\" class=\"dataframe\">\n",
       "  <thead>\n",
       "    <tr style=\"text-align: right;\">\n",
       "      <th></th>\n",
       "      <th>Issue Date</th>\n",
       "      <th>Issue time</th>\n",
       "      <th>RP State Plate</th>\n",
       "      <th>Plate Expiry Date</th>\n",
       "      <th>Make</th>\n",
       "      <th>Body Style</th>\n",
       "      <th>Color</th>\n",
       "      <th>Route</th>\n",
       "      <th>Violation code</th>\n",
       "      <th>Violation Description</th>\n",
       "      <th>Fine amount</th>\n",
       "      <th>plate_expiry_date</th>\n",
       "      <th>instate</th>\n",
       "      <th>expired</th>\n",
       "      <th>top_25_make</th>\n",
       "      <th>fine_cat</th>\n",
       "      <th>issue_time_cat</th>\n",
       "      <th>days_between_issue_expired</th>\n",
       "    </tr>\n",
       "  </thead>\n",
       "  <tbody>\n",
       "    <tr>\n",
       "      <th>6</th>\n",
       "      <td>2015-12-17</td>\n",
       "      <td>1710.0</td>\n",
       "      <td>CA</td>\n",
       "      <td>201605.0</td>\n",
       "      <td>MAZD</td>\n",
       "      <td>PA</td>\n",
       "      <td>BL</td>\n",
       "      <td>00217</td>\n",
       "      <td>8070</td>\n",
       "      <td>PARK IN GRID LOCK ZN</td>\n",
       "      <td>163.0</td>\n",
       "      <td>2016-05-01</td>\n",
       "      <td>1</td>\n",
       "      <td>0</td>\n",
       "      <td>1</td>\n",
       "      <td>big</td>\n",
       "      <td>afternoon</td>\n",
       "      <td>136</td>\n",
       "    </tr>\n",
       "    <tr>\n",
       "      <th>10</th>\n",
       "      <td>2015-12-22</td>\n",
       "      <td>1100.0</td>\n",
       "      <td>CA</td>\n",
       "      <td>201511.0</td>\n",
       "      <td>FORD</td>\n",
       "      <td>Other</td>\n",
       "      <td>WH</td>\n",
       "      <td>2A75</td>\n",
       "      <td>8069AA</td>\n",
       "      <td>NO STOP/STAND AM</td>\n",
       "      <td>93.0</td>\n",
       "      <td>2015-11-01</td>\n",
       "      <td>1</td>\n",
       "      <td>1</td>\n",
       "      <td>1</td>\n",
       "      <td>medium</td>\n",
       "      <td>morning</td>\n",
       "      <td>-51</td>\n",
       "    </tr>\n",
       "    <tr>\n",
       "      <th>11</th>\n",
       "      <td>2015-12-22</td>\n",
       "      <td>1105.0</td>\n",
       "      <td>CA</td>\n",
       "      <td>201701.0</td>\n",
       "      <td>CHRY</td>\n",
       "      <td>PA</td>\n",
       "      <td>GO</td>\n",
       "      <td>2A75</td>\n",
       "      <td>8069AA</td>\n",
       "      <td>NO STOP/STAND AM</td>\n",
       "      <td>93.0</td>\n",
       "      <td>2017-01-01</td>\n",
       "      <td>1</td>\n",
       "      <td>0</td>\n",
       "      <td>1</td>\n",
       "      <td>medium</td>\n",
       "      <td>morning</td>\n",
       "      <td>376</td>\n",
       "    </tr>\n",
       "    <tr>\n",
       "      <th>14</th>\n",
       "      <td>2015-12-27</td>\n",
       "      <td>1055.0</td>\n",
       "      <td>CA</td>\n",
       "      <td>201605.0</td>\n",
       "      <td>TOYO</td>\n",
       "      <td>PA</td>\n",
       "      <td>BK</td>\n",
       "      <td>NaN</td>\n",
       "      <td>8058L</td>\n",
       "      <td>PREF PARKING</td>\n",
       "      <td>68.0</td>\n",
       "      <td>2016-05-01</td>\n",
       "      <td>1</td>\n",
       "      <td>0</td>\n",
       "      <td>1</td>\n",
       "      <td>medium</td>\n",
       "      <td>morning</td>\n",
       "      <td>126</td>\n",
       "    </tr>\n",
       "    <tr>\n",
       "      <th>19</th>\n",
       "      <td>2015-12-22</td>\n",
       "      <td>1102.0</td>\n",
       "      <td>CA</td>\n",
       "      <td>201606.0</td>\n",
       "      <td>HOND</td>\n",
       "      <td>PA</td>\n",
       "      <td>BK</td>\n",
       "      <td>2A1</td>\n",
       "      <td>8069B</td>\n",
       "      <td>NO PARKING</td>\n",
       "      <td>73.0</td>\n",
       "      <td>2016-06-01</td>\n",
       "      <td>1</td>\n",
       "      <td>0</td>\n",
       "      <td>1</td>\n",
       "      <td>medium</td>\n",
       "      <td>morning</td>\n",
       "      <td>162</td>\n",
       "    </tr>\n",
       "  </tbody>\n",
       "</table>\n",
       "</div>"
      ],
      "text/plain": [
       "   Issue Date Issue time RP State Plate Plate Expiry Date  Make Body Style  \\\n",
       "6  2015-12-17     1710.0             CA          201605.0  MAZD         PA   \n",
       "10 2015-12-22     1100.0             CA          201511.0  FORD      Other   \n",
       "11 2015-12-22     1105.0             CA          201701.0  CHRY         PA   \n",
       "14 2015-12-27     1055.0             CA          201605.0  TOYO         PA   \n",
       "19 2015-12-22     1102.0             CA          201606.0  HOND         PA   \n",
       "\n",
       "   Color  Route Violation code Violation Description Fine amount  \\\n",
       "6     BL  00217           8070  PARK IN GRID LOCK ZN       163.0   \n",
       "10    WH   2A75         8069AA      NO STOP/STAND AM        93.0   \n",
       "11    GO   2A75         8069AA      NO STOP/STAND AM        93.0   \n",
       "14    BK    NaN          8058L          PREF PARKING        68.0   \n",
       "19    BK    2A1          8069B            NO PARKING        73.0   \n",
       "\n",
       "   plate_expiry_date  instate  expired  top_25_make fine_cat issue_time_cat  \\\n",
       "6         2016-05-01        1        0            1      big      afternoon   \n",
       "10        2015-11-01        1        1            1   medium        morning   \n",
       "11        2017-01-01        1        0            1   medium        morning   \n",
       "14        2016-05-01        1        0            1   medium        morning   \n",
       "19        2016-06-01        1        0            1   medium        morning   \n",
       "\n",
       "    days_between_issue_expired  \n",
       "6                          136  \n",
       "10                         -51  \n",
       "11                         376  \n",
       "14                         126  \n",
       "19                         162  "
      ]
     },
     "execution_count": 132,
     "metadata": {},
     "output_type": "execute_result"
    }
   ],
   "source": [
    "# dropping unnecessary vars\n",
    "df_make.head()"
   ]
  },
  {
   "cell_type": "code",
   "execution_count": 137,
   "metadata": {},
   "outputs": [],
   "source": [
    "df_make = df_make.drop(['Issue Date', 'Issue time', 'RP State Plate', 'Plate Expiry Date', 'Make',  'Route', 'Violation code', 'Violation Description', 'plate_expiry_date'], axis=1)"
   ]
  },
  {
   "cell_type": "code",
   "execution_count": 139,
   "metadata": {},
   "outputs": [
    {
     "data": {
      "text/html": [
       "<div>\n",
       "<style scoped>\n",
       "    .dataframe tbody tr th:only-of-type {\n",
       "        vertical-align: middle;\n",
       "    }\n",
       "\n",
       "    .dataframe tbody tr th {\n",
       "        vertical-align: top;\n",
       "    }\n",
       "\n",
       "    .dataframe thead th {\n",
       "        text-align: right;\n",
       "    }\n",
       "</style>\n",
       "<table border=\"1\" class=\"dataframe\">\n",
       "  <thead>\n",
       "    <tr style=\"text-align: right;\">\n",
       "      <th></th>\n",
       "      <th>Body Style</th>\n",
       "      <th>Color</th>\n",
       "      <th>Fine amount</th>\n",
       "      <th>instate</th>\n",
       "      <th>expired</th>\n",
       "      <th>top_25_make</th>\n",
       "      <th>fine_cat</th>\n",
       "      <th>issue_time_cat</th>\n",
       "      <th>days_between_issue_expired</th>\n",
       "    </tr>\n",
       "  </thead>\n",
       "  <tbody>\n",
       "    <tr>\n",
       "      <th>6</th>\n",
       "      <td>PA</td>\n",
       "      <td>BL</td>\n",
       "      <td>163.0</td>\n",
       "      <td>1</td>\n",
       "      <td>0</td>\n",
       "      <td>1</td>\n",
       "      <td>big</td>\n",
       "      <td>afternoon</td>\n",
       "      <td>136</td>\n",
       "    </tr>\n",
       "    <tr>\n",
       "      <th>10</th>\n",
       "      <td>Other</td>\n",
       "      <td>WH</td>\n",
       "      <td>93.0</td>\n",
       "      <td>1</td>\n",
       "      <td>1</td>\n",
       "      <td>1</td>\n",
       "      <td>medium</td>\n",
       "      <td>morning</td>\n",
       "      <td>-51</td>\n",
       "    </tr>\n",
       "    <tr>\n",
       "      <th>11</th>\n",
       "      <td>PA</td>\n",
       "      <td>GO</td>\n",
       "      <td>93.0</td>\n",
       "      <td>1</td>\n",
       "      <td>0</td>\n",
       "      <td>1</td>\n",
       "      <td>medium</td>\n",
       "      <td>morning</td>\n",
       "      <td>376</td>\n",
       "    </tr>\n",
       "    <tr>\n",
       "      <th>14</th>\n",
       "      <td>PA</td>\n",
       "      <td>BK</td>\n",
       "      <td>68.0</td>\n",
       "      <td>1</td>\n",
       "      <td>0</td>\n",
       "      <td>1</td>\n",
       "      <td>medium</td>\n",
       "      <td>morning</td>\n",
       "      <td>126</td>\n",
       "    </tr>\n",
       "    <tr>\n",
       "      <th>19</th>\n",
       "      <td>PA</td>\n",
       "      <td>BK</td>\n",
       "      <td>73.0</td>\n",
       "      <td>1</td>\n",
       "      <td>0</td>\n",
       "      <td>1</td>\n",
       "      <td>medium</td>\n",
       "      <td>morning</td>\n",
       "      <td>162</td>\n",
       "    </tr>\n",
       "  </tbody>\n",
       "</table>\n",
       "</div>"
      ],
      "text/plain": [
       "   Body Style Color Fine amount  instate  expired  top_25_make fine_cat  \\\n",
       "6          PA    BL       163.0        1        0            1      big   \n",
       "10      Other    WH        93.0        1        1            1   medium   \n",
       "11         PA    GO        93.0        1        0            1   medium   \n",
       "14         PA    BK        68.0        1        0            1   medium   \n",
       "19         PA    BK        73.0        1        0            1   medium   \n",
       "\n",
       "   issue_time_cat  days_between_issue_expired  \n",
       "6       afternoon                         136  \n",
       "10        morning                         -51  \n",
       "11        morning                         376  \n",
       "14        morning                         126  \n",
       "19        morning                         162  "
      ]
     },
     "execution_count": 139,
     "metadata": {},
     "output_type": "execute_result"
    }
   ],
   "source": [
    "df_make.head()"
   ]
  },
  {
   "cell_type": "code",
   "execution_count": 142,
   "metadata": {},
   "outputs": [],
   "source": [
    "df_make['Fine amount'] = df_make['Fine amount'].astype('float')"
   ]
  },
  {
   "cell_type": "code",
   "execution_count": 160,
   "metadata": {},
   "outputs": [],
   "source": [
    "df_make['Fine amount'] = df_make['Fine amount'].fillna(value=0)"
   ]
  },
  {
   "cell_type": "code",
   "execution_count": 161,
   "metadata": {},
   "outputs": [
    {
     "data": {
      "text/plain": [
       "Body Style                    0\n",
       "Color                         0\n",
       "Fine amount                   0\n",
       "instate                       0\n",
       "expired                       0\n",
       "top_25_make                   0\n",
       "fine_cat                      0\n",
       "issue_time_cat                0\n",
       "days_between_issue_expired    0\n",
       "dtype: int64"
      ]
     },
     "execution_count": 161,
     "metadata": {},
     "output_type": "execute_result"
    }
   ],
   "source": [
    "df_make.isnull().sum()"
   ]
  },
  {
   "cell_type": "code",
   "execution_count": 162,
   "metadata": {},
   "outputs": [],
   "source": [
    "df_make_model = pd.get_dummies(df_make)"
   ]
  },
  {
   "cell_type": "code",
   "execution_count": 185,
   "metadata": {},
   "outputs": [
    {
     "data": {
      "text/plain": [
       "Index(['Fine amount', 'instate', 'expired', 'top_25_make',\n",
       "       'days_between_issue_expired', 'Body Style_CM', 'Body Style_Other',\n",
       "       'Body Style_PA', 'Body Style_PU', 'Body Style_TK', 'Body Style_VN',\n",
       "       'Color_BK', 'Color_BL', 'Color_GN', 'Color_GO', 'Color_GY', 'Color_MR',\n",
       "       'Color_Other', 'Color_RD', 'Color_SL', 'Color_WH', 'Color_WT',\n",
       "       'fine_cat_big', 'fine_cat_low', 'fine_cat_medium',\n",
       "       'issue_time_cat_afternoon', 'issue_time_cat_early_hours',\n",
       "       'issue_time_cat_morning', 'issue_time_cat_night'],\n",
       "      dtype='object')"
      ]
     },
     "execution_count": 185,
     "metadata": {},
     "output_type": "execute_result"
    }
   ],
   "source": [
    "df_make_model.columns"
   ]
  },
  {
   "cell_type": "markdown",
   "metadata": {},
   "source": [
    "## making the model"
   ]
  },
  {
   "cell_type": "code",
   "execution_count": 164,
   "metadata": {},
   "outputs": [],
   "source": [
    "X = df_make_model.loc[:, df_make_model.columns != 'top_25_make']\n",
    "y = df_make_model.loc[:, df_make_model.columns == 'top_25_make']"
   ]
  },
  {
   "cell_type": "code",
   "execution_count": 165,
   "metadata": {},
   "outputs": [
    {
     "name": "stderr",
     "output_type": "stream",
     "text": [
      "/anaconda3/lib/python3.6/site-packages/sklearn/linear_model/logistic.py:432: FutureWarning: Default solver will be changed to 'lbfgs' in 0.22. Specify a solver to silence this warning.\n",
      "  FutureWarning)\n",
      "/anaconda3/lib/python3.6/site-packages/sklearn/utils/validation.py:724: DataConversionWarning: A column-vector y was passed when a 1d array was expected. Please change the shape of y to (n_samples, ), for example using ravel().\n",
      "  y = column_or_1d(y, warn=True)\n"
     ]
    },
    {
     "data": {
      "text/plain": [
       "LogisticRegression(C=1.0, class_weight=None, dual=False, fit_intercept=True,\n",
       "                   intercept_scaling=1, l1_ratio=None, max_iter=100,\n",
       "                   multi_class='warn', n_jobs=None, penalty='l2',\n",
       "                   random_state=None, solver='warn', tol=0.0001, verbose=0,\n",
       "                   warm_start=False)"
      ]
     },
     "execution_count": 165,
     "metadata": {},
     "output_type": "execute_result"
    }
   ],
   "source": [
    "from sklearn.linear_model import LogisticRegression\n",
    "from sklearn import metrics\n",
    "from sklearn.model_selection import train_test_split\n",
    "\n",
    "X_train, X_test, y_train, y_test = train_test_split(X, y, test_size=0.3, random_state=0)\n",
    "logreg = LogisticRegression()\n",
    "logreg.fit(X_train, y_train)\n"
   ]
  },
  {
   "cell_type": "code",
   "execution_count": 171,
   "metadata": {},
   "outputs": [
    {
     "name": "stdout",
     "output_type": "stream",
     "text": [
      "Accuracy of logistic regression classifier on test set: 0.92\n"
     ]
    }
   ],
   "source": [
    "y_pred = logreg.predict(X_test)\n",
    "print('Accuracy of logistic regression classifier on test set: {:.2f}'.format(logreg.score(X_test, y_test)))"
   ]
  },
  {
   "cell_type": "code",
   "execution_count": 173,
   "metadata": {},
   "outputs": [
    {
     "name": "stdout",
     "output_type": "stream",
     "text": [
      "              precision    recall  f1-score   support\n",
      "\n",
      "           0       0.40      0.00      0.00     84543\n",
      "           1       0.92      1.00      0.96   1014316\n",
      "\n",
      "    accuracy                           0.92   1098859\n",
      "   macro avg       0.66      0.50      0.48   1098859\n",
      "weighted avg       0.88      0.92      0.89   1098859\n",
      "\n"
     ]
    }
   ],
   "source": [
    "from sklearn.metrics import classification_report\n",
    "print(classification_report(y_test, y_pred))\n"
   ]
  },
  {
   "cell_type": "code",
   "execution_count": 177,
   "metadata": {},
   "outputs": [
    {
     "data": {
      "image/png": "[encoded data removed]",
      "text/plain": [
       "<Figure size 432x288 with 1 Axes>"
      ]
     },
     "metadata": {
      "needs_background": "light"
     },
     "output_type": "display_data"
    }
   ],
   "source": [
    "from sklearn.metrics import roc_auc_score\n",
    "from sklearn.metrics import roc_curve\n",
    "import matplotlib.pyplot as plt \n",
    "%matplotlib inline\n",
    "logit_roc_auc = roc_auc_score(y_test, logreg.predict(X_test))\n",
    "fpr, tpr, thresholds = roc_curve(y_test, logreg.predict_proba(X_test)[:,1])\n",
    "plt.figure()\n",
    "plt.plot(fpr, tpr, label='Logistic Regression (area = %0.2f)' % logit_roc_auc)\n",
    "plt.plot([0, 1], [0, 1],'r--')\n",
    "plt.xlim([0.0, 1.0])\n",
    "plt.ylim([0.0, 1.05])\n",
    "plt.xlabel('False Positive Rate')\n",
    "plt.ylabel('True Positive Rate')\n",
    "plt.title('Receiver operating characteristic')\n",
    "plt.legend(loc=\"lower right\")\n",
    "plt.savefig('Log_ROC')\n",
    "plt.show()\n"
   ]
  },
  {
   "cell_type": "code",
   "execution_count": 187,
   "metadata": {},
   "outputs": [],
   "source": [
    "import pickle\n",
    "pickle.dump(logreg, open('final_prediction.pickle', 'wb'))"
   ]
  },
  {
   "cell_type": "code",
   "execution_count": 188,
   "metadata": {},
   "outputs": [
    {
     "data": {
      "text/plain": [
       "Index(['Ticket number', 'Issue Date', 'Issue time', 'Meter Id', 'Marked Time',\n",
       "       'RP State Plate', 'Plate Expiry Date', 'VIN', 'Make', 'Body Style',\n",
       "       'Color', 'Location', 'Route', 'Agency', 'Violation code',\n",
       "       'Violation Description', 'Fine amount', 'Latitude', 'Longitude'],\n",
       "      dtype='object')"
      ]
     },
     "execution_count": 188,
     "metadata": {},
     "output_type": "execute_result"
    }
   ],
   "source": [
    "df.columns"
   ]
  },
  {
   "cell_type": "code",
   "execution_count": null,
   "metadata": {},
   "outputs": [],
   "source": []
  }
 ],
 "metadata": {
  "kernelspec": {
   "display_name": "Python 3",
   "language": "python",
   "name": "python3"
  },
  "language_info": {
   "codemirror_mode": {
    "name": "ipython",
    "version": 3
   },
   "file_extension": ".py",
   "mimetype": "text/x-python",
   "name": "python",
   "nbconvert_exporter": "python",
   "pygments_lexer": "ipython3",
   "version": "3.6.8"
  }
 },
 "nbformat": 4,
 "nbformat_minor": 2
}
